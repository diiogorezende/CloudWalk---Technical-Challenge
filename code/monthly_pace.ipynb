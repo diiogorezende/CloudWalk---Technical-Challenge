{
 "cells": [
  {
   "cell_type": "code",
   "execution_count": 2,
   "id": "dece54fa",
   "metadata": {},
   "outputs": [],
   "source": [
    "import pandas as pd\n",
    "from datetime import datetime\n",
    "from dateutil.relativedelta import relativedelta\n",
    "import calendar\n",
    "import json"
   ]
  },
  {
   "cell_type": "code",
   "execution_count": 3,
   "id": "08cbcf80",
   "metadata": {},
   "outputs": [],
   "source": [
    "df = pd.read_csv('../debit_transactions_processed.csv')"
   ]
  },
  {
   "cell_type": "code",
   "execution_count": 4,
   "id": "41522be7",
   "metadata": {},
   "outputs": [],
   "source": [
    "def calculate_monthly_pace(df: pd.DataFrame, current_date_str: str) -> dict:\n",
    "    \"\"\"\n",
    "    Calculates the \"Monthly Pace\" metric for the current month up to a specific date\n",
    "    and determines the trend in relation to the total spending of the previous month.\n",
    "\n",
    "    Args:\n",
    "        df (pd.DataFrame): DataFrame containing transactions with 'date' (datetime)\n",
    "                           and 'amount' (float) columns.\n",
    "        current_date_str (str): The reference date in 'YYYY-MM-DD' format to\n",
    "                                calculate the \"pace\" up to that day.\n",
    "\n",
    "    Returns:\n",
    "        dict: A dictionary (JSON format) with the metric name, the calculated value,\n",
    "              and the trend ('upward', 'downward', 'stable', 'insufficient_data').\n",
    "    \"\"\"\n",
    "    try:\n",
    "        df_debits = df.copy()\n",
    "\n",
    "        # Set Date\n",
    "        current_date = pd.to_datetime(current_date_str)\n",
    "        # Guarantees that 'date' column is in datetime format\n",
    "        df['date'] = pd.to_datetime(df['date'])\n",
    "\n",
    "        # Check if current_date is within the dataset range\n",
    "        max_date_in_dataset = df['date'].max()\n",
    "        if current_date > max_date_in_dataset:\n",
    "            return {\n",
    "                \"metric_name\": \"Monthly Pace\",\n",
    "                \"value\": 0.0,\n",
    "                \"trend\": \"error\",\n",
    "                \"error_message\": f\"Requested date ({current_date_str}) is beyond available data (up to {max_date_in_dataset.strftime('%Y-%m-%d')})\"\n",
    "            }\n",
    "\n",
    "        # Define start and end dates for current and previous months\n",
    "        start_of_current_month = current_date.replace(day=1)\n",
    "        start_of_previous_month = start_of_current_month - relativedelta(months=1)\n",
    "        end_of_previous_month = start_of_current_month - relativedelta(days=1)\n",
    "\n",
    "        # Monthly Pace Calculation\n",
    "        # Filter to a specific date range and only debit transactions\n",
    "        current_month_transactions_to_date = df_debits[\n",
    "            (df_debits['date'] >= start_of_current_month) &\n",
    "            (df_debits['date'] <= current_date)\n",
    "        ]\n",
    "\n",
    "        total_spent_to_date = float(current_month_transactions_to_date['amount_abs'].sum())\n",
    "        current_day_of_month = current_date.day\n",
    "        _, total_days_in_current_month = calendar.monthrange(current_date.year, current_date.month)\n",
    "\n",
    "        monthly_pace_current = 0.0\n",
    "        if current_day_of_month > 0:\n",
    "            avg_daily_spending = total_spent_to_date / current_day_of_month\n",
    "            monthly_pace_current = avg_daily_spending * total_days_in_current_month\n",
    "\n",
    "        # Total Spent Previous Month\n",
    "        previous_month_transactions = df_debits[\n",
    "            (df_debits['date'] >= start_of_previous_month) &\n",
    "            (df_debits['date'] <= end_of_previous_month)\n",
    "        ]\n",
    "        total_spent_previous_month = float(previous_month_transactions['amount_abs'].sum())\n",
    "\n",
    "        # Determine Trend\n",
    "        trend = \"stable\"\n",
    "        # Calculate trend only if there is data for the previous month\n",
    "        if total_spent_previous_month > 0:\n",
    "            tolerance = 0.05 * total_spent_previous_month\n",
    "            if monthly_pace_current > total_spent_previous_month + tolerance:\n",
    "                trend = \"upward\"\n",
    "            elif monthly_pace_current < total_spent_previous_month - tolerance:\n",
    "                trend = \"downward\"\n",
    "        else:\n",
    "            # No data for previous month - insufficient historical data\n",
    "            trend = \"insufficient_data\"\n",
    "\n",
    "        # Output Result\n",
    "        result = {\n",
    "            \"metric_name\": \"Monthly Pace\",\n",
    "            \"value\": round(monthly_pace_current, 2),\n",
    "            \"trend\": trend\n",
    "        }\n",
    "\n",
    "        return result\n",
    "\n",
    "    except Exception as e:\n",
    "        print(f\"Error calculating the metric: {e}\")\n",
    "        # Return error structure\n",
    "        return {\n",
    "            \"metric_name\": \"Monthly Pace\",\n",
    "            \"value\": 0.0,\n",
    "            \"trend\": \"error\",\n",
    "            \"error_message\": str(e)\n",
    "        }"
   ]
  },
  {
   "cell_type": "code",
   "execution_count": 9,
   "id": "d373ce63",
   "metadata": {},
   "outputs": [
    {
     "data": {
      "text/plain": [
       "{'metric_name': 'Monthly Pace', 'value': 75480.29, 'trend': 'upward'}"
      ]
     },
     "execution_count": 9,
     "metadata": {},
     "output_type": "execute_result"
    }
   ],
   "source": [
    "calculate_monthly_pace(df, '2025-08-05')"
   ]
  }
 ],
 "metadata": {
  "kernelspec": {
   "display_name": "Python 3",
   "language": "python",
   "name": "python3"
  },
  "language_info": {
   "codemirror_mode": {
    "name": "ipython",
    "version": 3
   },
   "file_extension": ".py",
   "mimetype": "text/x-python",
   "name": "python",
   "nbconvert_exporter": "python",
   "pygments_lexer": "ipython3",
   "version": "3.10.11"
  }
 },
 "nbformat": 4,
 "nbformat_minor": 5
}
